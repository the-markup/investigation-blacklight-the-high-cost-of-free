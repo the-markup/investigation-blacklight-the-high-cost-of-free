{
 "cells": [
  {
   "cell_type": "markdown",
   "metadata": {},
   "source": [
    "# Survey of the top 100,000 most popular websites\n",
    "\n",
    "This notebook contains the analysis for the data collected from our survey of the most popular 100,000 websites as determined by the [Tranco List](https://tranco-list.eu/list/V3KN/full). \n",
    "\n",
    "This analysis was used mention in our 'Show Your Work' [How We Built a Real-time Privacy Inspector]( https://themarkup.org/blacklight/2020/09/22/how-we-built-a-real-time-privacy-inspector) and story [The High Privacy Cost of a “Free” Website](https://themarkup.org/blacklight/2020/09/22/the-high-privacy-cost-of-a-free-website). \n",
    "\n",
    "For more information about the columns of the reports used in this analysis please refer to the [Blacklight Reporter](https://github.com/the-markup/blacklight-reporter#reports) Github repository."
   ]
  },
  {
   "cell_type": "code",
   "execution_count": 2,
   "metadata": {},
   "outputs": [],
   "source": [
    "import os\n",
    "import json\n",
    "import pandas as pd"
   ]
  },
  {
   "cell_type": "code",
   "execution_count": 3,
   "metadata": {},
   "outputs": [],
   "source": [
    "def get_summary_col_pct(df, col, total_count):\n",
    "    num = set(df[df[col] == True].origin_domain)\n",
    "    return (round(len(num)/total_count*100),len(num))\n",
    "\n",
    "def get_sites_with_canvas_fp(df, total_count):\n",
    "    fp_origin_domain = df_data[(df_data.has_third_party_canvas_fingerprinters == True) |  (df_data.has_first_party_canvas_fingerprinters == True)].origin_domain\n",
    "    num = set(fp_origin_domain)\n",
    "    return (round(len(num)/total_count*100),len(num))"
   ]
  },
  {
   "cell_type": "code",
   "execution_count": 4,
   "metadata": {},
   "outputs": [],
   "source": [
    "input_dir = f\"data/tranco-V3Kn-100k-2020-09-07\""
   ]
  },
  {
   "cell_type": "code",
   "execution_count": 4,
   "metadata": {},
   "outputs": [],
   "source": [
    "s_df = pd.read_csv(os.path.join(input_dir,'summary.csv'))\n",
    "s_df.origin_domain = s_df.apply( lambda x: x.inspection_path.split('/')[-2] if pd.isna(x.origin_domain)  else x.origin_domain, axis=1) \n",
    "\n",
    "u_df = pd.read_table(os.path.join('data','tranco-V3Kn-100k.txt'), delim_whitespace=True)\n",
    "u_df['rank'] = u_df.index\n",
    "u_df[\"origin_domain\"] = u_df.urls.apply(lambda x: x.replace('http://',\"\"))  \n",
    "del u_df[\"urls\"]\n",
    "\n",
    "# Join the results from the survey with the ranked list.\n",
    "summary = pd.merge(u_df,s_df, how='left', on=['origin_domain', 'origin_domain'])\n",
    "summary[\"failed\"] = summary.no_data.apply( lambda x: True if pd.isna(x) or x is True  else False)\n"
   ]
  },
  {
   "cell_type": "code",
   "execution_count": 5,
   "metadata": {},
   "outputs": [
    {
     "name": "stdout",
     "output_type": "stream",
     "text": [
      "We attempted to scan 100000 urls and got parsable results for 81617 of them giving us a 81.62% success rate.\n",
      "All percentages mentioned are from the collection of successful captures.\n"
     ]
    }
   ],
   "source": [
    "# Dataframe with successful captures.\n",
    "df_data = summary[summary.no_data == False]\n",
    "# Dataframe of failed captures.\n",
    "failed = summary[summary['failed'] == True]\n",
    "total_count = summary.origin_domain.nunique()\n",
    "success_count = total_count - failed.origin_domain.nunique()\n",
    "print(f\"We attempted to scan {total_count} urls and got parsable results for {success_count} of them giving us a {round((success_count/total_count)*100, 2)}% success rate.\\nAll percentages mentioned are from the collection of successful captures.\")"
   ]
  },
  {
   "cell_type": "code",
   "execution_count": 6,
   "metadata": {},
   "outputs": [
    {
     "name": "stdout",
     "output_type": "stream",
     "text": [
      "6% (5214) of the top 81617 sites use canvas fingerprinting.\n",
      "15% (12457) of the top 81617 sites use session recorders.\n",
      "4% (3534) of the top 81617 sites log keystrokes\n"
     ]
    }
   ],
   "source": [
    "canvas_fp = get_sites_with_canvas_fp(df_data, success_count)\n",
    "session_recorder_pct = get_summary_col_pct(df_data, \"has_session_recorders\", success_count)\n",
    "key_loggers_pct = get_summary_col_pct(df_data, \"has_key_loggers\", success_count)\n",
    "\n",
    "print(f\"{canvas_fp[0]}% ({canvas_fp[1]}) of the top {success_count} sites use canvas fingerprinting.\\n\"\n",
    "f\"{session_recorder_pct[0]}% ({session_recorder_pct[1]}) of the top {success_count} sites use session recorders.\\n\"\n",
    "f\"{key_loggers_pct[0]}% ({key_loggers_pct[1]}) of the top {success_count} sites log keystrokes\")"
   ]
  },
  {
   "cell_type": "code",
   "execution_count": 7,
   "metadata": {},
   "outputs": [
    {
     "data": {
      "text/plain": [
       "'12.7% of sites with no third party cookies or tracking network requests'"
      ]
     },
     "execution_count": 7,
     "metadata": {},
     "output_type": "execute_result"
    }
   ],
   "source": [
    "df_data = summary[summary.no_data == False]\n",
    "no_tpt = df_data[(df_data.has_third_party_cookies == False) & (df_data.has_tracking_requests == False)& (df_data.has_third_party_canvas_fingerprinters == False)]\n",
    "url_count = no_tpt.origin_domain.nunique()\n",
    "f\"{round(url_count/success_count*100,2)}% of sites with no third party cookies or tracking network requests\""
   ]
  },
  {
   "cell_type": "markdown",
   "metadata": {},
   "source": [
    "## Tracking Technology"
   ]
  },
  {
   "cell_type": "code",
   "execution_count": 8,
   "metadata": {},
   "outputs": [],
   "source": [
    "tpt_df = pd.read_csv(os.path.join(input_dir,'third_party_trackers.csv'))"
   ]
  },
  {
   "cell_type": "code",
   "execution_count": 10,
   "metadata": {},
   "outputs": [
    {
     "data": {
      "text/plain": [
       "'87.27% (71225) of the top 81617 sites had third party cookies or tracking network requests'"
      ]
     },
     "execution_count": 10,
     "metadata": {},
     "output_type": "execute_result"
    }
   ],
   "source": [
    "tpt = df_data[(df_data.has_third_party_cookies == True) | (df_data.has_tracking_requests == True)]\n",
    "url_count = tpt.origin_domain.nunique()\n",
    "f\"{round(url_count/success_count*100,2)}% ({url_count}) of the top {success_count} sites had third party cookies or tracking network requests\""
   ]
  },
  {
   "cell_type": "code",
   "execution_count": 11,
   "metadata": {},
   "outputs": [
    {
     "name": "stdout",
     "output_type": "stream",
     "text": [
      "Median number of third party trackers 7.0\n"
     ]
    }
   ],
   "source": [
    "median_tpt = tpt_df.groupby([\"origin_domain\"]).script_domain.nunique().median()\n",
    "print(f\"Median number of third party trackers {median_tpt}\")"
   ]
  },
  {
   "cell_type": "markdown",
   "metadata": {},
   "source": [
    "## Google"
   ]
  },
  {
   "cell_type": "code",
   "execution_count": 12,
   "metadata": {},
   "outputs": [
    {
     "data": {
      "text/plain": [
       "'Percentage of sites with Google tracking technology 74.0%'"
      ]
     },
     "execution_count": 12,
     "metadata": {},
     "output_type": "execute_result"
    }
   ],
   "source": [
    "google_df = tpt_df[tpt_df.fillna(\"\")[\"script_domain_owner\"].str.contains('Google') ]\n",
    "domains = ['google-analytics.com', 'doubleclick.net', 'googletagmanager.com',\"googletagservices\",\"googlesyndication.com\",\"googleadservices\",\"2mdn.net\"]\n",
    "gtrack_df = google_df[google_df.script_domain.isin(domains)]\n",
    "pct_google = gtrack_df.origin_domain.nunique()/success_count\n",
    "f\"Percentage of sites with Google tracking technology {round(pct_google,2)*100}%\""
   ]
  },
  {
   "cell_type": "code",
   "execution_count": 13,
   "metadata": {},
   "outputs": [
    {
     "data": {
      "text/plain": [
       "'Percentage of sites using Google Analytics 69.0% (56464)'"
      ]
     },
     "execution_count": 13,
     "metadata": {},
     "output_type": "execute_result"
    }
   ],
   "source": [
    "domains = ['google-analytics.com']\n",
    "ga_df = google_df[google_df.script_domain.isin(domains)]\n",
    "pct_google = ga_df.origin_domain.nunique()/success_count\n",
    "f\"Percentage of sites using Google Analytics {round(pct_google,2)*100}% ({ga_df.origin_domain.nunique()})\""
   ]
  },
  {
   "cell_type": "code",
   "execution_count": 14,
   "metadata": {},
   "outputs": [
    {
     "data": {
      "text/plain": [
       "\"Percentage of sites use the Google Analytics 'Remarketing Audiences' feature.50.0%\""
      ]
     },
     "execution_count": 14,
     "metadata": {},
     "output_type": "execute_result"
    }
   ],
   "source": [
    "ga = google_df[(google_df.script_url.str.contains(\"stats.g.doubleclick\")) & (google_df.script_url.str.contains(\"UA-\"))]\n",
    "pct_ga_ra = ga.origin_domain.nunique()/success_count\n",
    "f\"Percentage of sites use the Google Analytics 'Remarketing Audiences' feature.{round(pct_ga_ra,2)*100}%\""
   ]
  },
  {
   "cell_type": "markdown",
   "metadata": {},
   "source": [
    "## AddThis"
   ]
  },
  {
   "cell_type": "code",
   "execution_count": 15,
   "metadata": {},
   "outputs": [],
   "source": [
    "addthis_df = tpt_df[tpt_df.fillna(\"\")[\"script_domain\"].str.contains('addthis') ]"
   ]
  },
  {
   "cell_type": "code",
   "execution_count": 16,
   "metadata": {},
   "outputs": [
    {
     "data": {
      "text/plain": [
       "'Percentage of sites with AddThis scripts 5.0% (4113)'"
      ]
     },
     "execution_count": 16,
     "metadata": {},
     "output_type": "execute_result"
    }
   ],
   "source": [
    "pct_addthis = addthis_df.origin_domain.nunique()/success_count\n",
    "f\"Percentage of sites with AddThis scripts {round(pct_addthis,2)*100}% ({addthis_df.origin_domain.nunique()})\""
   ]
  },
  {
   "cell_type": "markdown",
   "metadata": {},
   "source": [
    "## Facebook"
   ]
  },
  {
   "cell_type": "code",
   "execution_count": 17,
   "metadata": {},
   "outputs": [
    {
     "data": {
      "text/plain": [
       "'Percentage of the top 81617 sites with the Facebook pixel 30.0 %'"
      ]
     },
     "execution_count": 17,
     "metadata": {},
     "output_type": "execute_result"
    }
   ],
   "source": [
    "fb_pixel = pd.read_csv(os.path.join(input_dir,'fb_pixel_events.csv'))\n",
    "fb_pixel_pct = fb_pixel.origin_domain.nunique()/success_count\n",
    "f\"Percentage of the top {success_count} sites with the Facebook pixel {round(fb_pixel_pct,2)*100} %\""
   ]
  },
  {
   "cell_type": "code",
   "execution_count": 18,
   "metadata": {},
   "outputs": [
    {
     "data": {
      "text/plain": [
       "'Percentage of sites with Facebook tracking technology 33.0% (26651)'"
      ]
     },
     "execution_count": 18,
     "metadata": {},
     "output_type": "execute_result"
    }
   ],
   "source": [
    "fb_df = tpt_df[tpt_df.fillna(\"\")[\"script_domain_owner\"].str.contains('Facebook') ]\n",
    "domains = ['facebook.com', 'facebook.net', 'atdmt.com']\n",
    "fbtrack_df = fb_df[fb_df.script_domain.isin(domains)]\n",
    "pct_fb = fbtrack_df.origin_domain.nunique()/success_count\n",
    "f\"Percentage of sites with Facebook tracking technology {round(pct_fb,2)*100}% ({fbtrack_df.origin_domain.nunique()})\""
   ]
  },
  {
   "cell_type": "markdown",
   "metadata": {},
   "source": [
    "## Third-party Cookies"
   ]
  },
  {
   "cell_type": "code",
   "execution_count": 5,
   "metadata": {},
   "outputs": [],
   "source": [
    "cookie_df = pd.read_csv(os.path.join(input_dir,'cookies.csv'))\n",
    "tpc_df =  cookie_df[cookie_df.cookie_is_third_party == True]\n",
    "tg = tpc_df.groupby(\"origin_domain\")[\"cookie_domain\"].nunique().sort_values(ascending = False)\n"
   ]
  },
  {
   "cell_type": "code",
   "execution_count": 6,
   "metadata": {},
   "outputs": [
    {
     "name": "stdout",
     "output_type": "stream",
     "text": [
      "On average, a site loaded 3.0 third-party cookies.\n"
     ]
    }
   ],
   "source": [
    "print(f\"On average, a site loaded {round(tg.median(),0)} third-party cookies.\")"
   ]
  }
 ],
 "metadata": {
  "kernelspec": {
   "display_name": "Python 3",
   "language": "python",
   "name": "python3"
  },
  "language_info": {
   "codemirror_mode": {
    "name": "ipython",
    "version": 3
   },
   "file_extension": ".py",
   "mimetype": "text/x-python",
   "name": "python",
   "nbconvert_exporter": "python",
   "pygments_lexer": "ipython3",
   "version": "3.7.3"
  }
 },
 "nbformat": 4,
 "nbformat_minor": 4
}
