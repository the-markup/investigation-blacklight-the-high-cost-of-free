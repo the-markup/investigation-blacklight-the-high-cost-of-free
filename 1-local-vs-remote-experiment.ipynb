{
 "cells": [
  {
   "cell_type": "markdown",
   "metadata": {},
   "source": [
    "## Local vs Remote Experiment\n",
    "\n",
    "This notebook contains the data analysis for the experiment mentioned in the limitations section of our [methodology](https://themarkup.org/blacklight/2020/09/22/how-we-built-a-real-time-privacy-inspector##limitations).\n",
    "\n",
    "We took a random sample of 1,000 sites from the top websites from the Tranco List that we had already run through Blacklight on AWS. We ran this sample through Blacklight software on our computer locally at a residential IP address in New York City, and compared the results of the tests."
   ]
  },
  {
   "cell_type": "code",
   "execution_count": 1,
   "metadata": {},
   "outputs": [],
   "source": [
    "import os\n",
    "import json\n",
    "import pandas as pd\n",
    "import numpy as np\n",
    "import time"
   ]
  },
  {
   "cell_type": "code",
   "execution_count": 2,
   "metadata": {},
   "outputs": [],
   "source": [
    "def get_summary_col_pct(df,sample_size, col, t):\n",
    "    num = set(df[df[col] == True].origin_domain)\n",
    "    value =  round(len(num)/sample_size*100, 2)\n",
    "    return {f\"{col} (pct)\": round(value) , \"type\": t}\n",
    "\n",
    "def get_sites_with_canvas_fp(df,sample_size, t):\n",
    "    fp_df = df[ (df.has_third_party_canvas_fingerprinters == True) |  (df.has_first_party_canvas_fingerprinters == True)]\n",
    "    num = set(fp_df.origin_domain)\n",
    "    value = round(len(num)/sample_size*100, 2)\n",
    "    return {'canvas_fingerprinting (pct)':round(value), \"type\": t }\n",
    "\n",
    "def get_mean_tpt(df, t):\n",
    "    counts = []\n",
    "    for domain, df in df.groupby([\"origin_domain\"]):\n",
    "        counts.append(df.script_domain.nunique()) \n",
    "    sr = pd.Series(counts)\n",
    "    return {'third_party_trackers (median)':round(sr.median()), \"type\": t }\n",
    "\n",
    "def get_mean_tpc(df, t):\n",
    "    df =  df[df.cookie_is_third_party == True]\n",
    "    tg = df.groupby(\"origin_domain\")[\"cookie_domain\"].nunique().sort_values(ascending = False)\n",
    "    return {'third_party_cookies (median)':round(tg.median()), \"type\": t }\n"
   ]
  },
  {
   "cell_type": "code",
   "execution_count": 4,
   "metadata": {},
   "outputs": [
    {
     "name": "stdout",
     "output_type": "stream",
     "text": [
      "Size of sample for experiment 1000\n"
     ]
    }
   ],
   "source": [
    "local_data_input_dir = \"data/local-urls-for-experiment-2020-07-29\"\n",
    "remote_data_input_dir = \"data/remote-urls-for-experiment-2020-07-29\"\n",
    "\n",
    "# Load the reports\n",
    "local_summary = pd.read_csv(os.path.join(local_data_input_dir,'summary.csv'))\n",
    "remote_summary = pd.read_csv(os.path.join(remote_data_input_dir,'summary.csv'))\n",
    "l_cookie_df = pd.read_csv(os.path.join(local_data_input_dir,'cookies.csv'))\n",
    "r_cookie_df = pd.read_csv(os.path.join(remote_data_input_dir,'cookies.csv'))\n",
    "l_tpt_df = pd.read_csv(os.path.join(local_data_input_dir,'third_party_trackers.csv'))\n",
    "r_tpt_df = pd.read_csv(os.path.join(remote_data_input_dir,'third_party_trackers.csv'))\n",
    "\n",
    "\n",
    "\n",
    "local_domains = local_summary[local_summary['origin_domain'].notna()].origin_domain.unique()\n",
    "remote_domains = remote_summary[remote_summary['origin_domain'].notna()].origin_domain.unique()\n",
    "SAMPLE_SIZE = 1000\n",
    "sample = np.intersect1d(local_domains, remote_domains)[:SAMPLE_SIZE]\n",
    "sample_size = len(sample)\n",
    "\n",
    "\n",
    "print(f\"Size of sample for experiment {sample_size}\")"
   ]
  },
  {
   "cell_type": "code",
   "execution_count": 5,
   "metadata": {},
   "outputs": [],
   "source": [
    "# Only consider domains that were in both sections\n",
    "local_summary = local_summary[local_summary[\"origin_domain\"].isin(sample)]\n",
    "remote_summary = remote_summary[remote_summary[\"origin_domain\"].isin(sample)]\n",
    "\n",
    "l_cookie_df = l_cookie_df[l_cookie_df[\"origin_domain\"].isin(sample)]\n",
    "r_cookie_df = r_cookie_df[r_cookie_df[\"origin_domain\"].isin(sample)]\n",
    "l_tpt_df = l_tpt_df[l_tpt_df[\"origin_domain\"].isin(sample)]\n",
    "r_tpt_df = r_tpt_df[r_tpt_df[\"origin_domain\"].isin(sample)]"
   ]
  },
  {
   "cell_type": "code",
   "execution_count": 6,
   "metadata": {},
   "outputs": [
    {
     "data": {
      "text/html": [
       "<div>\n",
       "<style scoped>\n",
       "    .dataframe tbody tr th:only-of-type {\n",
       "        vertical-align: middle;\n",
       "    }\n",
       "\n",
       "    .dataframe tbody tr th {\n",
       "        vertical-align: top;\n",
       "    }\n",
       "\n",
       "    .dataframe thead th {\n",
       "        text-align: right;\n",
       "    }\n",
       "</style>\n",
       "<table border=\"1\" class=\"dataframe\">\n",
       "  <thead>\n",
       "    <tr style=\"text-align: right;\">\n",
       "      <th></th>\n",
       "      <th>canvas_fingerprinting (pct)</th>\n",
       "      <th>has_key_loggers (pct)</th>\n",
       "      <th>has_session_recorders (pct)</th>\n",
       "      <th>third_party_cookies (median)</th>\n",
       "      <th>third_party_trackers (median)</th>\n",
       "    </tr>\n",
       "    <tr>\n",
       "      <th>type</th>\n",
       "      <th></th>\n",
       "      <th></th>\n",
       "      <th></th>\n",
       "      <th></th>\n",
       "      <th></th>\n",
       "    </tr>\n",
       "  </thead>\n",
       "  <tbody>\n",
       "    <tr>\n",
       "      <th>local</th>\n",
       "      <td>8.0</td>\n",
       "      <td>4.0</td>\n",
       "      <td>18.0</td>\n",
       "      <td>4.0</td>\n",
       "      <td>7.0</td>\n",
       "    </tr>\n",
       "    <tr>\n",
       "      <th>remote</th>\n",
       "      <td>10.0</td>\n",
       "      <td>6.0</td>\n",
       "      <td>19.0</td>\n",
       "      <td>5.0</td>\n",
       "      <td>8.0</td>\n",
       "    </tr>\n",
       "  </tbody>\n",
       "</table>\n",
       "</div>"
      ],
      "text/plain": [
       "        canvas_fingerprinting (pct)  has_key_loggers (pct)  \\\n",
       "type                                                         \n",
       "local                           8.0                    4.0   \n",
       "remote                         10.0                    6.0   \n",
       "\n",
       "        has_session_recorders (pct)  third_party_cookies (median)  \\\n",
       "type                                                                \n",
       "local                          18.0                           4.0   \n",
       "remote                         19.0                           5.0   \n",
       "\n",
       "        third_party_trackers (median)  \n",
       "type                                   \n",
       "local                             7.0  \n",
       "remote                            8.0  "
      ]
     },
     "execution_count": 6,
     "metadata": {},
     "output_type": "execute_result"
    }
   ],
   "source": [
    "results = []\n",
    "results.append(get_sites_with_canvas_fp(local_summary,sample_size, 'local'))\n",
    "results.append(get_summary_col_pct(local_summary,sample_size, \"has_session_recorders\", 'local'))\n",
    "results.append(get_summary_col_pct(local_summary,sample_size, \"has_key_loggers\", 'local'))\n",
    "results.append(get_mean_tpt(l_tpt_df, 'local'))\n",
    "results.append(get_mean_tpc(l_cookie_df, 'local'))\n",
    "\n",
    "results.append(get_sites_with_canvas_fp(remote_summary,sample_size, 'remote'))\n",
    "results.append(get_summary_col_pct(remote_summary, sample_size, \"has_session_recorders\", 'remote'))\n",
    "results.append(get_summary_col_pct(remote_summary,sample_size, \"has_key_loggers\", 'remote'))\n",
    "results.append(get_mean_tpt(r_tpt_df,'remote'))\n",
    "results.append(get_mean_tpc(r_cookie_df, 'remote'))\n",
    "\n",
    "results_df = pd.DataFrame.from_dict(results)\n",
    "results_df\n",
    "pd.pivot_table(results_df, index='type')\n",
    "\n"
   ]
  }
 ],
 "metadata": {
  "kernelspec": {
   "display_name": "Python 3",
   "language": "python",
   "name": "python3"
  },
  "language_info": {
   "codemirror_mode": {
    "name": "ipython",
    "version": 3
   },
   "file_extension": ".py",
   "mimetype": "text/x-python",
   "name": "python",
   "nbconvert_exporter": "python",
   "pygments_lexer": "ipython3",
   "version": "3.7.3"
  }
 },
 "nbformat": 4,
 "nbformat_minor": 4
}
